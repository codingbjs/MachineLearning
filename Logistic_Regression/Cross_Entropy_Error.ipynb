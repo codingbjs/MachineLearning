{
  "nbformat": 4,
  "nbformat_minor": 0,
  "metadata": {
    "colab": {
      "provenance": [],
      "include_colab_link": true
    },
    "kernelspec": {
      "name": "python3",
      "display_name": "Python 3"
    }
  },
  "cells": [
    {
      "cell_type": "markdown",
      "metadata": {
        "id": "view-in-github",
        "colab_type": "text"
      },
      "source": [
        "<a href=\"https://colab.research.google.com/github/codingbjs/MachineLearning/blob/main/Logistic_Regression/Cross_Entropy_Error.ipynb\" target=\"_parent\"><img src=\"https://colab.research.google.com/assets/colab-badge.svg\" alt=\"Open In Colab\"/></a>"
      ]
    },
    {
      "cell_type": "markdown",
      "metadata": {
        "id": "Ml-hcS25cMbV"
      },
      "source": [
        "# Cross Entropy Error"
      ]
    },
    {
      "cell_type": "code",
      "metadata": {
        "id": "RbPgODpVzdHI"
      },
      "source": [
        "import warnings\n",
        "warnings.filterwarnings('ignore')"
      ],
      "execution_count": 1,
      "outputs": []
    },
    {
      "cell_type": "markdown",
      "metadata": {
        "id": "y2-pGrtIfsoz"
      },
      "source": [
        "# I. Cross Entropy"
      ]
    },
    {
      "cell_type": "markdown",
      "metadata": {
        "id": "brALaBNIleeU"
      },
      "source": [
        "* 서로 다른 사건의 확률을 곱하여 Entropy를 계산\n",
        " * y : 실제값, y_hat : 예측값(can be incorrect)\n",
        "* y를 Cross-Entropy의 가중치로 적용\n",
        " * Binary Cross-Entropy Error = –y * log(y_hat) – (1 - y) * log(1 - y_hat)\n",
        " * Categorical Cross-Entropy Error = –y * log(y_hat)"
      ]
    },
    {
      "cell_type": "markdown",
      "metadata": {
        "id": "k-lsI64rRxAT"
      },
      "source": [
        "> ## 1) y = 1 vs. y_hat = 1"
      ]
    },
    {
      "cell_type": "code",
      "metadata": {
        "id": "UNodswhTRjo1",
        "colab": {
          "base_uri": "https://localhost:8080/"
        },
        "outputId": "8a2eb4d8-6897-460f-8371-1da35cab0824"
      },
      "source": [
        "import numpy as np\n",
        "\n",
        "y = 1\n",
        "y_hat = 1\n",
        "\n",
        "-y * np.log(y_hat)"
      ],
      "execution_count": 2,
      "outputs": [
        {
          "output_type": "execute_result",
          "data": {
            "text/plain": [
              "-0.0"
            ]
          },
          "metadata": {},
          "execution_count": 2
        }
      ]
    },
    {
      "cell_type": "markdown",
      "metadata": {
        "id": "8aoKSQbCS__y"
      },
      "source": [
        "> ## 2) y = 1 vs. y_hat = 0.0001"
      ]
    },
    {
      "cell_type": "code",
      "metadata": {
        "id": "Kh6zMOtoTE7q",
        "colab": {
          "base_uri": "https://localhost:8080/"
        },
        "outputId": "558658bd-a056-4fb3-aa41-66a534c548bb"
      },
      "source": [
        "y = 1\n",
        "y_hat = 0.0001\n",
        "\n",
        "-y * np.log(y_hat)"
      ],
      "execution_count": 3,
      "outputs": [
        {
          "output_type": "execute_result",
          "data": {
            "text/plain": [
              "9.210340371976182"
            ]
          },
          "metadata": {},
          "execution_count": 3
        }
      ]
    },
    {
      "cell_type": "markdown",
      "metadata": {
        "id": "YklxCOKOTQDb"
      },
      "source": [
        "> ## 3) y = 0 vs. y_hat = 0"
      ]
    },
    {
      "cell_type": "code",
      "metadata": {
        "id": "eJrE5u9GRsnB",
        "colab": {
          "base_uri": "https://localhost:8080/"
        },
        "outputId": "ca856df3-e144-4fce-f4e6-fd2574949e41"
      },
      "source": [
        "y = 0\n",
        "y_hat = 0\n",
        "\n",
        "-(1 - y) * np.log(1 - y_hat)"
      ],
      "execution_count": 4,
      "outputs": [
        {
          "output_type": "execute_result",
          "data": {
            "text/plain": [
              "-0.0"
            ]
          },
          "metadata": {},
          "execution_count": 4
        }
      ]
    },
    {
      "cell_type": "markdown",
      "metadata": {
        "id": "CShAr2sbTmNL"
      },
      "source": [
        "> ## 4) y = 0 vs. y_hat = 0.9999"
      ]
    },
    {
      "cell_type": "code",
      "metadata": {
        "id": "AmvhJQ_UT4wn",
        "colab": {
          "base_uri": "https://localhost:8080/"
        },
        "outputId": "e58cf6c9-db53-4982-ea79-4697698a2641"
      },
      "source": [
        "y = 0\n",
        "y_hat = 0.9999\n",
        "\n",
        "-(1 - y) * np.log(1 - y_hat)"
      ],
      "execution_count": 5,
      "outputs": [
        {
          "output_type": "execute_result",
          "data": {
            "text/plain": [
              "9.210340371976294"
            ]
          },
          "metadata": {},
          "execution_count": 5
        }
      ]
    },
    {
      "cell_type": "markdown",
      "metadata": {
        "id": "wK4Nklzzh_Ed"
      },
      "source": [
        "# II. Information Theory\n"
      ]
    },
    {
      "cell_type": "markdown",
      "metadata": {
        "id": "IsbYWb1Wi76X"
      },
      "source": [
        "> ## 1) 발생 확률이 서로 다른 사건 A, B, C - Information Gain\n",
        "\n",
        "* Information Gain(정보 이득량)\n",
        " * 자주 발생하지 않는 사건은 자주 발생하는 사건보다 전달하는 정보량이 많음\n",
        " * Information Gain(정보 이득량)은 정보의 희귀성(발생가능성)에 반비례\n",
        " * I(x) = –log(P(x))"
      ]
    },
    {
      "cell_type": "code",
      "metadata": {
        "id": "8z4-oHswij-g",
        "colab": {
          "base_uri": "https://localhost:8080/"
        },
        "outputId": "cdb51675-f7d6-4afe-e5a3-21a04b4b1d9c"
      },
      "source": [
        "A = 0.9\n",
        "B = 0.5\n",
        "C = 0.1\n",
        "\n",
        "print('%.3f' % -np.log(A), '%.3f' % -np.log(B), '%.3f' % -np.log(C))"
      ],
      "execution_count": 6,
      "outputs": [
        {
          "output_type": "stream",
          "name": "stdout",
          "text": [
            "0.105 0.693 2.303\n"
          ]
        }
      ]
    },
    {
      "cell_type": "markdown",
      "metadata": {
        "id": "yU-3uPyljKQE"
      },
      "source": [
        "> ## 2) AlphaGo와 Apes의 바둑대결 승리 확률 - Degree of Surprise\n",
        "\n",
        "* Degree of Surprise(놀람의 정도)\n",
        " * 예상하기 어려운 정보에 더 높은 가치를 매기는 것"
      ]
    },
    {
      "cell_type": "code",
      "metadata": {
        "id": "mBuEPrRDinix",
        "colab": {
          "base_uri": "https://localhost:8080/"
        },
        "outputId": "ff5688e5-3e1a-4e5c-e539-2d77a1e6a33e"
      },
      "source": [
        "Alphago = 0.999\n",
        "Apes = 0.001\n",
        "\n",
        "print('%.3f' % -np.log(Alphago), '%.3f' % -np.log(Apes))"
      ],
      "execution_count": 7,
      "outputs": [
        {
          "output_type": "stream",
          "name": "stdout",
          "text": [
            "0.001 6.908\n"
          ]
        }
      ]
    },
    {
      "cell_type": "markdown",
      "metadata": {
        "id": "CgCnma7QjtpS"
      },
      "source": [
        "# III. Entropy"
      ]
    },
    {
      "cell_type": "markdown",
      "metadata": {
        "id": "AmYGzfJKkOJL"
      },
      "source": [
        "* 불확실성의 정도\n",
        " * Entropy = E(–log(P(x)))\n",
        "* 확률변수의 평균 정보량(기댓값)\n",
        " * –sum(p(x) * log(p(x)))\n",
        "* 불확실성(Entropy)이 낮으면 분류정확도가 높아짐"
      ]
    },
    {
      "cell_type": "markdown",
      "metadata": {
        "id": "IzSPawrcknfX"
      },
      "source": [
        "> ## 1) 승률이 비슷한 두팀의 Entropy"
      ]
    },
    {
      "cell_type": "code",
      "metadata": {
        "id": "ZerL7OdPk0Zk",
        "outputId": "d01a6cc1-0a27-4f24-f252-19810b3fd375",
        "colab": {
          "base_uri": "https://localhost:8080/"
        }
      },
      "source": [
        "P1 = 0.5\n",
        "P2 = 0.5\n",
        "\n",
        "-P1 * np.log(P1) - P2 * np.log(P2)"
      ],
      "execution_count": 8,
      "outputs": [
        {
          "output_type": "execute_result",
          "data": {
            "text/plain": [
              "0.6931471805599453"
            ]
          },
          "metadata": {},
          "execution_count": 8
        }
      ]
    },
    {
      "cell_type": "markdown",
      "metadata": {
        "id": "woYt_azSkuHK"
      },
      "source": [
        "> ## 2) 승률 차이가 큰 두팀의 Entropy"
      ]
    },
    {
      "cell_type": "code",
      "metadata": {
        "id": "QWulX2IEk_18",
        "outputId": "4c39eddc-0961-4260-900d-1fd3c18aa395",
        "colab": {
          "base_uri": "https://localhost:8080/"
        }
      },
      "source": [
        "P1 = 0.999\n",
        "P2 = 0.001\n",
        "\n",
        "-P1 * np.log(P1) - P2 * np.log(P2)"
      ],
      "execution_count": 9,
      "outputs": [
        {
          "output_type": "execute_result",
          "data": {
            "text/plain": [
              "0.007907255112232087"
            ]
          },
          "metadata": {},
          "execution_count": 9
        }
      ]
    },
    {
      "cell_type": "markdown",
      "metadata": {
        "id": "u4EBM5Pt3R7N"
      },
      "source": [
        "#\n",
        "#\n",
        "#\n",
        "# End Of Document\n",
        "#\n",
        "#\n",
        "#"
      ]
    }
  ]
}