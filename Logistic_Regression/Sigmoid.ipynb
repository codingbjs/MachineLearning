{
  "nbformat": 4,
  "nbformat_minor": 0,
  "metadata": {
    "colab": {
      "provenance": [],
      "include_colab_link": true
    },
    "kernelspec": {
      "name": "python3",
      "display_name": "Python 3"
    }
  },
  "cells": [
    {
      "cell_type": "markdown",
      "metadata": {
        "id": "view-in-github",
        "colab_type": "text"
      },
      "source": [
        "<a href=\"https://colab.research.google.com/github/codingbjs/MachineLearning/blob/main/Logistic_Regression/Sigmoid.ipynb\" target=\"_parent\"><img src=\"https://colab.research.google.com/assets/colab-badge.svg\" alt=\"Open In Colab\"/></a>"
      ]
    },
    {
      "cell_type": "markdown",
      "metadata": {
        "id": "Ml-hcS25cMbV"
      },
      "source": [
        "# Sigmoid Function"
      ]
    },
    {
      "cell_type": "code",
      "metadata": {
        "id": "RbPgODpVzdHI"
      },
      "source": [
        "import warnings\n",
        "warnings.filterwarnings('ignore')"
      ],
      "execution_count": 1,
      "outputs": []
    },
    {
      "cell_type": "markdown",
      "metadata": {
        "id": "e94ajqtOd4mo"
      },
      "source": [
        "# I. Sigmoid Activation"
      ]
    },
    {
      "cell_type": "markdown",
      "metadata": {
        "id": "nd0OUYx6d-K8"
      },
      "source": [
        "> ## 1) sigmoid( ) 정의"
      ]
    },
    {
      "cell_type": "code",
      "metadata": {
        "id": "_ZTeoeQWcF7P"
      },
      "source": [
        "import numpy as np\n",
        "\n",
        "def sigmoid(x):\n",
        "    y_hat = 1 / (1 + np.exp(-x))\n",
        "    return y_hat"
      ],
      "execution_count": 2,
      "outputs": []
    },
    {
      "cell_type": "markdown",
      "metadata": {
        "id": "TenZUEcNeKjI"
      },
      "source": [
        "> ## 2) sigmoid( ) 실행"
      ]
    },
    {
      "cell_type": "code",
      "metadata": {
        "id": "Z91VjrDyeHBZ",
        "colab": {
          "base_uri": "https://localhost:8080/"
        },
        "outputId": "c2481e00-89a0-44d1-f38f-3f039a67b358"
      },
      "source": [
        "sigmoid(0)"
      ],
      "execution_count": 3,
      "outputs": [
        {
          "output_type": "execute_result",
          "data": {
            "text/plain": [
              "0.5"
            ]
          },
          "metadata": {},
          "execution_count": 3
        }
      ]
    },
    {
      "cell_type": "code",
      "metadata": {
        "id": "huevkNm1eSKQ",
        "colab": {
          "base_uri": "https://localhost:8080/"
        },
        "outputId": "da66741d-400b-446d-beaa-27bf9fa712c1"
      },
      "source": [
        "sigmoid(100000000)"
      ],
      "execution_count": 4,
      "outputs": [
        {
          "output_type": "execute_result",
          "data": {
            "text/plain": [
              "1.0"
            ]
          },
          "metadata": {},
          "execution_count": 4
        }
      ]
    },
    {
      "cell_type": "code",
      "metadata": {
        "id": "xooYw3aMeZA5",
        "colab": {
          "base_uri": "https://localhost:8080/"
        },
        "outputId": "c1bd2d3f-2f0e-4a51-e0f2-b04766c3f164"
      },
      "source": [
        "sigmoid(-100000000)"
      ],
      "execution_count": 5,
      "outputs": [
        {
          "output_type": "execute_result",
          "data": {
            "text/plain": [
              "0.0"
            ]
          },
          "metadata": {},
          "execution_count": 5
        }
      ]
    },
    {
      "cell_type": "markdown",
      "metadata": {
        "id": "24_1baZge5A7"
      },
      "source": [
        "> ## 3) sigmoid( ) 시각화"
      ]
    },
    {
      "cell_type": "code",
      "metadata": {
        "id": "THtaVnf5e8rH",
        "colab": {
          "base_uri": "https://localhost:8080/",
          "height": 522
        },
        "outputId": "86f09541-a386-463d-88f0-c538c01fd601"
      },
      "source": [
        "import matplotlib.pyplot as plt\n",
        "\n",
        "n = np.linspace(-10.0, 10.0, 2000)\n",
        "\n",
        "plt.figure(figsize = (9, 6))\n",
        "plt.plot(n, sigmoid(n))\n",
        "plt.show()"
      ],
      "execution_count": 6,
      "outputs": [
        {
          "output_type": "display_data",
          "data": {
            "text/plain": [
              "<Figure size 900x600 with 1 Axes>"
            ],
            "image/png": "[encoded data removed]"
          },
          "metadata": {}
        }
      ]
    },
    {
      "cell_type": "markdown",
      "metadata": {
        "id": "u4EBM5Pt3R7N"
      },
      "source": [
        "#\n",
        "#\n",
        "#\n",
        "# End Of Document\n",
        "#\n",
        "#\n",
        "#"
      ]
    }
  ]
}